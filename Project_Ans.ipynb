{
 "cells": [
  {
   "cell_type": "markdown",
   "id": "35505dba-45ea-4d08-9fc9-8fc6235ea500",
   "metadata": {},
   "source": [
    "Importing Modules"
   ]
  },
  {
   "cell_type": "code",
   "execution_count": 311,
   "id": "8ccc8704-276e-4c29-9bcc-fe87f189ec3c",
   "metadata": {},
   "outputs": [],
   "source": [
    "import numpy as np\n",
    "import pandas as pd\n",
    "import matplotlib.pyplot as plt\n",
    "import seaborn as sns"
   ]
  },
  {
   "cell_type": "markdown",
   "id": "fbc98289-0df5-4ea5-b6ca-0c47306e2499",
   "metadata": {},
   "source": [
    "Reading the data from csv file"
   ]
  },
  {
   "cell_type": "code",
   "execution_count": 312,
   "id": "16ec9b17-84c3-4153-a22e-9931147d9702",
   "metadata": {},
   "outputs": [
    {
     "data": {
      "text/html": [
       "<div>\n",
       "<style scoped>\n",
       "    .dataframe tbody tr th:only-of-type {\n",
       "        vertical-align: middle;\n",
       "    }\n",
       "\n",
       "    .dataframe tbody tr th {\n",
       "        vertical-align: top;\n",
       "    }\n",
       "\n",
       "    .dataframe thead th {\n",
       "        text-align: right;\n",
       "    }\n",
       "</style>\n",
       "<table border=\"1\" class=\"dataframe\">\n",
       "  <thead>\n",
       "    <tr style=\"text-align: right;\">\n",
       "      <th></th>\n",
       "      <th>age</th>\n",
       "      <th>job</th>\n",
       "      <th>marital</th>\n",
       "      <th>education</th>\n",
       "      <th>default</th>\n",
       "      <th>balance</th>\n",
       "      <th>housing</th>\n",
       "      <th>loan</th>\n",
       "      <th>contact</th>\n",
       "      <th>day</th>\n",
       "      <th>month</th>\n",
       "      <th>duration</th>\n",
       "      <th>campaign</th>\n",
       "      <th>pdays</th>\n",
       "      <th>previous</th>\n",
       "      <th>poutcome</th>\n",
       "      <th>deposit</th>\n",
       "    </tr>\n",
       "  </thead>\n",
       "  <tbody>\n",
       "    <tr>\n",
       "      <th>0</th>\n",
       "      <td>38</td>\n",
       "      <td>technician</td>\n",
       "      <td>married</td>\n",
       "      <td>tertiary</td>\n",
       "      <td>no</td>\n",
       "      <td>127</td>\n",
       "      <td>yes</td>\n",
       "      <td>no</td>\n",
       "      <td>cellular</td>\n",
       "      <td>14</td>\n",
       "      <td>oct</td>\n",
       "      <td>113</td>\n",
       "      <td>1</td>\n",
       "      <td>50</td>\n",
       "      <td>2</td>\n",
       "      <td>success</td>\n",
       "      <td>no</td>\n",
       "    </tr>\n",
       "    <tr>\n",
       "      <th>1</th>\n",
       "      <td>41</td>\n",
       "      <td>housemaid</td>\n",
       "      <td>married</td>\n",
       "      <td>primary</td>\n",
       "      <td>no</td>\n",
       "      <td>365</td>\n",
       "      <td>no</td>\n",
       "      <td>no</td>\n",
       "      <td>cellular</td>\n",
       "      <td>8</td>\n",
       "      <td>aug</td>\n",
       "      <td>203</td>\n",
       "      <td>5</td>\n",
       "      <td>-1</td>\n",
       "      <td>0</td>\n",
       "      <td>unknown</td>\n",
       "      <td>no</td>\n",
       "    </tr>\n",
       "    <tr>\n",
       "      <th>2</th>\n",
       "      <td>39</td>\n",
       "      <td>management</td>\n",
       "      <td>single</td>\n",
       "      <td>tertiary</td>\n",
       "      <td>no</td>\n",
       "      <td>2454</td>\n",
       "      <td>yes</td>\n",
       "      <td>no</td>\n",
       "      <td>cellular</td>\n",
       "      <td>4</td>\n",
       "      <td>may</td>\n",
       "      <td>716</td>\n",
       "      <td>3</td>\n",
       "      <td>263</td>\n",
       "      <td>2</td>\n",
       "      <td>failure</td>\n",
       "      <td>yes</td>\n",
       "    </tr>\n",
       "    <tr>\n",
       "      <th>3</th>\n",
       "      <td>49</td>\n",
       "      <td>blue-collar</td>\n",
       "      <td>married</td>\n",
       "      <td>primary</td>\n",
       "      <td>no</td>\n",
       "      <td>6215</td>\n",
       "      <td>yes</td>\n",
       "      <td>no</td>\n",
       "      <td>cellular</td>\n",
       "      <td>11</td>\n",
       "      <td>may</td>\n",
       "      <td>549</td>\n",
       "      <td>1</td>\n",
       "      <td>-1</td>\n",
       "      <td>0</td>\n",
       "      <td>unknown</td>\n",
       "      <td>no</td>\n",
       "    </tr>\n",
       "    <tr>\n",
       "      <th>4</th>\n",
       "      <td>37</td>\n",
       "      <td>services</td>\n",
       "      <td>married</td>\n",
       "      <td>secondary</td>\n",
       "      <td>no</td>\n",
       "      <td>1694</td>\n",
       "      <td>yes</td>\n",
       "      <td>yes</td>\n",
       "      <td>cellular</td>\n",
       "      <td>29</td>\n",
       "      <td>jan</td>\n",
       "      <td>404</td>\n",
       "      <td>2</td>\n",
       "      <td>251</td>\n",
       "      <td>6</td>\n",
       "      <td>failure</td>\n",
       "      <td>no</td>\n",
       "    </tr>\n",
       "  </tbody>\n",
       "</table>\n",
       "</div>"
      ],
      "text/plain": [
       "   age          job  marital  education default  balance housing loan  \\\n",
       "0   38   technician  married   tertiary      no      127     yes   no   \n",
       "1   41    housemaid  married    primary      no      365      no   no   \n",
       "2   39   management   single   tertiary      no     2454     yes   no   \n",
       "3   49  blue-collar  married    primary      no     6215     yes   no   \n",
       "4   37     services  married  secondary      no     1694     yes  yes   \n",
       "\n",
       "    contact  day month  duration  campaign  pdays  previous poutcome deposit  \n",
       "0  cellular   14   oct       113         1     50         2  success      no  \n",
       "1  cellular    8   aug       203         5     -1         0  unknown      no  \n",
       "2  cellular    4   may       716         3    263         2  failure     yes  \n",
       "3  cellular   11   may       549         1     -1         0  unknown      no  \n",
       "4  cellular   29   jan       404         2    251         6  failure      no  "
      ]
     },
     "execution_count": 312,
     "metadata": {},
     "output_type": "execute_result"
    }
   ],
   "source": [
    "df = pd.read_csv(r\"C:\\Users\\shiva\\Downloads\\data.csv\")\n",
    "df.head()"
   ]
  },
  {
   "cell_type": "code",
   "execution_count": 313,
   "id": "fa711083-cf33-4352-9428-f707f510688f",
   "metadata": {},
   "outputs": [
    {
     "data": {
      "text/plain": [
       "(8371, 17)"
      ]
     },
     "execution_count": 313,
     "metadata": {},
     "output_type": "execute_result"
    }
   ],
   "source": [
    "df.shape"
   ]
  },
  {
   "cell_type": "code",
   "execution_count": 314,
   "id": "b485ddfa-5923-4a5c-98a9-261626303c3b",
   "metadata": {},
   "outputs": [
    {
     "data": {
      "image/png": "[encoded data removed]",
      "text/plain": [
       "<Figure size 640x480 with 1 Axes>"
      ]
     },
     "metadata": {},
     "output_type": "display_data"
    }
   ],
   "source": [
    "df.plot()\n",
    "plt.show()"
   ]
  },
  {
   "cell_type": "code",
   "execution_count": 315,
   "id": "9a0dda40-770a-499d-8239-b158e352ea06",
   "metadata": {},
   "outputs": [
    {
     "data": {
      "text/plain": [
       "(array([ 0,  1,  2,  3,  4,  5,  6,  7,  8,  9, 10, 11]),\n",
       " [Text(0, 0, 'technician'),\n",
       "  Text(1, 0, 'housemaid'),\n",
       "  Text(2, 0, 'management'),\n",
       "  Text(3, 0, 'blue-collar'),\n",
       "  Text(4, 0, 'services'),\n",
       "  Text(5, 0, 'admin.'),\n",
       "  Text(6, 0, 'unemployed'),\n",
       "  Text(7, 0, 'student'),\n",
       "  Text(8, 0, 'entrepreneur'),\n",
       "  Text(9, 0, 'retired'),\n",
       "  Text(10, 0, 'self-employed'),\n",
       "  Text(11, 0, 'unknown')])"
      ]
     },
     "execution_count": 315,
     "metadata": {},
     "output_type": "execute_result"
    },
    {
     "data": {
      "image/png": "[encoded data removed]",
      "text/plain": [
       "<Figure size 640x480 with 1 Axes>"
      ]
     },
     "metadata": {},
     "output_type": "display_data"
    }
   ],
   "source": [
    "sns.countplot(x=\"job\",data=df)\n",
    "plt.xlabel(\"Job\")\n",
    "plt.xticks(rotation = 90) "
   ]
  },
  {
   "cell_type": "markdown",
   "id": "5f4c8795-f1ce-4954-ad70-a3d109aa4e7a",
   "metadata": {},
   "source": [
    "Making changes in selected features \n",
    "\n",
    "    Changing String to 1 and 0 on their value based"
   ]
  },
  {
   "cell_type": "code",
   "execution_count": 316,
   "id": "2f0c5711-e5ac-412b-8477-53d2850e39e8",
   "metadata": {},
   "outputs": [],
   "source": [
    "df[\"deposit\"]=df[\"deposit\"].replace('yes',1)\n",
    "df[\"deposit\"]=df[\"deposit\"].replace('no',0)\n",
    "df[\"default\"]=df[\"default\"].replace('yes',1)\n",
    "df[\"default\"]=df[\"default\"].replace('no',0)\n",
    "df[\"loan\"]=df[\"loan\"].replace('yes',1)\n",
    "df[\"loan\"]=df[\"loan\"].replace('no',0)\n",
    "df[\"housing\"]=df[\"housing\"].replace('yes',1)\n",
    "df[\"housing\"]=df[\"housing\"].replace('no',0)"
   ]
  },
  {
   "cell_type": "markdown",
   "id": "cb7e6300-8cff-4bb2-97b0-24df64e15278",
   "metadata": {},
   "source": [
    "Locating features in the variable arrays"
   ]
  },
  {
   "cell_type": "code",
   "execution_count": 317,
   "id": "b214f91e-b774-46df-b555-82083e9e8f1c",
   "metadata": {},
   "outputs": [],
   "source": [
    "x=df.iloc[:,[0,4,5,6,7,11,12,13,14]].values\n",
    "y=df.iloc[:,16].values"
   ]
  },
  {
   "cell_type": "markdown",
   "id": "f2e30c4d-1eb9-4002-9f77-163a29ea2143",
   "metadata": {},
   "source": [
    "Importing Machine Learning Algorithm and Intializing it"
   ]
  },
  {
   "cell_type": "code",
   "execution_count": 318,
   "id": "2fc1adab-920b-4ae5-ad2d-b97edd4ef40c",
   "metadata": {},
   "outputs": [
    {
     "name": "stderr",
     "output_type": "stream",
     "text": [
      "C:\\Users\\shiva\\miniconda3\\lib\\site-packages\\sklearn\\linear_model\\_logistic.py:444: ConvergenceWarning: lbfgs failed to converge (status=1):\n",
      "STOP: TOTAL NO. of ITERATIONS REACHED LIMIT.\n",
      "\n",
      "Increase the number of iterations (max_iter) or scale the data as shown in:\n",
      "    https://scikit-learn.org/stable/modules/preprocessing.html\n",
      "Please also refer to the documentation for alternative solver options:\n",
      "    https://scikit-learn.org/stable/modules/linear_model.html#logistic-regression\n",
      "  n_iter_i = _check_optimize_result(\n"
     ]
    },
    {
     "data": {
      "text/html": [
       "<style>#sk-container-id-9 {color: black;background-color: white;}#sk-container-id-9 pre{padding: 0;}#sk-container-id-9 div.sk-toggleable {background-color: white;}#sk-container-id-9 label.sk-toggleable__label {cursor: pointer;display: block;width: 100%;margin-bottom: 0;padding: 0.3em;box-sizing: border-box;text-align: center;}#sk-container-id-9 label.sk-toggleable__label-arrow:before {content: \"▸\";float: left;margin-right: 0.25em;color: #696969;}#sk-container-id-9 label.sk-toggleable__label-arrow:hover:before {color: black;}#sk-container-id-9 div.sk-estimator:hover label.sk-toggleable__label-arrow:before {color: black;}#sk-container-id-9 div.sk-toggleable__content {max-height: 0;max-width: 0;overflow: hidden;text-align: left;background-color: #f0f8ff;}#sk-container-id-9 div.sk-toggleable__content pre {margin: 0.2em;color: black;border-radius: 0.25em;background-color: #f0f8ff;}#sk-container-id-9 input.sk-toggleable__control:checked~div.sk-toggleable__content {max-height: 200px;max-width: 100%;overflow: auto;}#sk-container-id-9 input.sk-toggleable__control:checked~label.sk-toggleable__label-arrow:before {content: \"▾\";}#sk-container-id-9 div.sk-estimator input.sk-toggleable__control:checked~label.sk-toggleable__label {background-color: #d4ebff;}#sk-container-id-9 div.sk-label input.sk-toggleable__control:checked~label.sk-toggleable__label {background-color: #d4ebff;}#sk-container-id-9 input.sk-hidden--visually {border: 0;clip: rect(1px 1px 1px 1px);clip: rect(1px, 1px, 1px, 1px);height: 1px;margin: -1px;overflow: hidden;padding: 0;position: absolute;width: 1px;}#sk-container-id-9 div.sk-estimator {font-family: monospace;background-color: #f0f8ff;border: 1px dotted black;border-radius: 0.25em;box-sizing: border-box;margin-bottom: 0.5em;}#sk-container-id-9 div.sk-estimator:hover {background-color: #d4ebff;}#sk-container-id-9 div.sk-parallel-item::after {content: \"\";width: 100%;border-bottom: 1px solid gray;flex-grow: 1;}#sk-container-id-9 div.sk-label:hover label.sk-toggleable__label {background-color: #d4ebff;}#sk-container-id-9 div.sk-serial::before {content: \"\";position: absolute;border-left: 1px solid gray;box-sizing: border-box;top: 0;bottom: 0;left: 50%;z-index: 0;}#sk-container-id-9 div.sk-serial {display: flex;flex-direction: column;align-items: center;background-color: white;padding-right: 0.2em;padding-left: 0.2em;position: relative;}#sk-container-id-9 div.sk-item {position: relative;z-index: 1;}#sk-container-id-9 div.sk-parallel {display: flex;align-items: stretch;justify-content: center;background-color: white;position: relative;}#sk-container-id-9 div.sk-item::before, #sk-container-id-9 div.sk-parallel-item::before {content: \"\";position: absolute;border-left: 1px solid gray;box-sizing: border-box;top: 0;bottom: 0;left: 50%;z-index: -1;}#sk-container-id-9 div.sk-parallel-item {display: flex;flex-direction: column;z-index: 1;position: relative;background-color: white;}#sk-container-id-9 div.sk-parallel-item:first-child::after {align-self: flex-end;width: 50%;}#sk-container-id-9 div.sk-parallel-item:last-child::after {align-self: flex-start;width: 50%;}#sk-container-id-9 div.sk-parallel-item:only-child::after {width: 0;}#sk-container-id-9 div.sk-dashed-wrapped {border: 1px dashed gray;margin: 0 0.4em 0.5em 0.4em;box-sizing: border-box;padding-bottom: 0.4em;background-color: white;}#sk-container-id-9 div.sk-label label {font-family: monospace;font-weight: bold;display: inline-block;line-height: 1.2em;}#sk-container-id-9 div.sk-label-container {text-align: center;}#sk-container-id-9 div.sk-container {/* jupyter's `normalize.less` sets `[hidden] { display: none; }` but bootstrap.min.css set `[hidden] { display: none !important; }` so we also need the `!important` here to be able to override the default hidden behavior on the sphinx rendered scikit-learn.org. See: https://github.com/scikit-learn/scikit-learn/issues/21755 */display: inline-block !important;position: relative;}#sk-container-id-9 div.sk-text-repr-fallback {display: none;}</style><div id=\"sk-container-id-9\" class=\"sk-top-container\"><div class=\"sk-text-repr-fallback\"><pre>LogisticRegression()</pre><b>In a Jupyter environment, please rerun this cell to show the HTML representation or trust the notebook. <br />On GitHub, the HTML representation is unable to render, please try loading this page with nbviewer.org.</b></div><div class=\"sk-container\" hidden><div class=\"sk-item\"><div class=\"sk-estimator sk-toggleable\"><input class=\"sk-toggleable__control sk-hidden--visually\" id=\"sk-estimator-id-9\" type=\"checkbox\" checked><label for=\"sk-estimator-id-9\" class=\"sk-toggleable__label sk-toggleable__label-arrow\">LogisticRegression</label><div class=\"sk-toggleable__content\"><pre>LogisticRegression()</pre></div></div></div></div></div>"
      ],
      "text/plain": [
       "LogisticRegression()"
      ]
     },
     "execution_count": 318,
     "metadata": {},
     "output_type": "execute_result"
    }
   ],
   "source": [
    "from sklearn.linear_model import LogisticRegression\n",
    "lr=LogisticRegression()\n",
    "lr.fit(x,y)"
   ]
  },
  {
   "cell_type": "markdown",
   "id": "3547cd09-14a8-4d04-ab44-aafddd8ab9fc",
   "metadata": {},
   "source": [
    "Reading the Test data and matching feature values"
   ]
  },
  {
   "cell_type": "code",
   "execution_count": 319,
   "id": "8d5a8394-ca79-42ca-a704-cb077b6f4976",
   "metadata": {},
   "outputs": [],
   "source": [
    "df1 = pd.read_csv(r\"C:\\Users\\shiva\\Downloads\\test_data.csv\")"
   ]
  },
  {
   "cell_type": "code",
   "execution_count": 320,
   "id": "fc6bfbbd-605e-4335-ab84-0417829f5a8a",
   "metadata": {},
   "outputs": [],
   "source": [
    "df[\"default\"]=df[\"default\"].replace('yes',1)\n",
    "df[\"default\"]=df[\"default\"].replace('no',0)\n",
    "df1[\"loan\"]=df1[\"loan\"].replace('yes',1)\n",
    "df1[\"loan\"]=df1[\"loan\"].replace('no',0)\n",
    "df1[\"housing\"]=df1[\"housing\"].replace('yes',1)\n",
    "df1[\"housing\"]=df1[\"housing\"].replace('no',0)"
   ]
  },
  {
   "cell_type": "markdown",
   "id": "433da29f-2539-4b8c-a3c6-b3939863225a",
   "metadata": {},
   "source": [
    "Assigning features to testing array and initializing ans array"
   ]
  },
  {
   "cell_type": "code",
   "execution_count": 321,
   "id": "e46d60df-7275-4fb7-ab4c-565ee18cf098",
   "metadata": {},
   "outputs": [],
   "source": [
    "x_test=df.iloc[:,[0,4,5,6,7,11,12,13,14]].values"
   ]
  },
  {
   "cell_type": "code",
   "execution_count": 322,
   "id": "b5dd11e9-c0ae-48cd-bf08-4316a113f6cb",
   "metadata": {},
   "outputs": [],
   "source": [
    "y_pred=lr.predict(x_test)\n",
    "ans=pd.DataFrame(y_pred)\n",
    "ans=ans.replace(0,'no')\n",
    "ans=ans.replace(1,'yes')\n",
    "ans.to_csv(\"C:\\\\Users\\\\shiva\\\\Downloads\\\\predict_result.csv\")"
   ]
  },
  {
   "cell_type": "markdown",
   "id": "e04ed541-4954-4c28-8c49-642e4a3b04f8",
   "metadata": {},
   "source": [
    "Importing some other features like confussion matrics, decision tree,  random forest\n",
    "    \n",
    "    taking predictions for test data"
   ]
  },
  {
   "cell_type": "code",
   "execution_count": 323,
   "id": "d45e3284-e1b6-42e5-a03e-7efa77b20777",
   "metadata": {},
   "outputs": [],
   "source": [
    "from sklearn.metrics import confusion_matrix\n",
    "cm = confusion_matrix(y, y_pred)"
   ]
  },
  {
   "cell_type": "code",
   "execution_count": 324,
   "id": "9d84a4b9-f294-43c5-a608-fb45495d412b",
   "metadata": {},
   "outputs": [
    {
     "data": {
      "text/plain": [
       "array([[3603,  825],\n",
       "       [1062, 2881]], dtype=int64)"
      ]
     },
     "execution_count": 324,
     "metadata": {},
     "output_type": "execute_result"
    }
   ],
   "source": [
    "cm"
   ]
  },
  {
   "cell_type": "markdown",
   "id": "750e23d8-9e08-4332-b58d-efd58c21af87",
   "metadata": {},
   "source": [
    "Checking Accuracy, Precision, Recall, and F1 score"
   ]
  },
  {
   "cell_type": "code",
   "execution_count": 325,
   "id": "e8db501a-6270-4f0c-a224-8f061a88a926",
   "metadata": {},
   "outputs": [
    {
     "data": {
      "text/plain": [
       "77.4578903356827"
      ]
     },
     "execution_count": 325,
     "metadata": {},
     "output_type": "execute_result"
    }
   ],
   "source": [
    "accuracy=((3603+2881)/(3603+825+1062+2881))*100\n",
    "accuracy"
   ]
  },
  {
   "cell_type": "code",
   "execution_count": 326,
   "id": "66ba0c09-b8d3-41c6-a822-63c53e650127",
   "metadata": {},
   "outputs": [
    {
     "data": {
      "text/plain": [
       "0.8136856368563685"
      ]
     },
     "execution_count": 326,
     "metadata": {},
     "output_type": "execute_result"
    }
   ],
   "source": [
    "precision=3603/(3603+825)\n",
    "precision"
   ]
  },
  {
   "cell_type": "code",
   "execution_count": 327,
   "id": "2f48acc1-3dfb-447c-ace0-a8a23266ba7b",
   "metadata": {},
   "outputs": [
    {
     "data": {
      "text/plain": [
       "0.772347266881029"
      ]
     },
     "execution_count": 327,
     "metadata": {},
     "output_type": "execute_result"
    }
   ],
   "source": [
    "recall=3603/(3603+1062)\n",
    "recall"
   ]
  },
  {
   "cell_type": "code",
   "execution_count": 328,
   "id": "39f389fc-5ec2-47dd-b5ca-6fae909d74eb",
   "metadata": {},
   "outputs": [
    {
     "data": {
      "text/plain": [
       "0.7924777301220719"
      ]
     },
     "execution_count": 328,
     "metadata": {},
     "output_type": "execute_result"
    }
   ],
   "source": [
    "F1_score=2*(precision*recall)/(precision+recall)\n",
    "F1_score"
   ]
  },
  {
   "cell_type": "markdown",
   "id": "897a5d8c-62e9-4b88-a60a-83f3392d01f0",
   "metadata": {},
   "source": [
    "Checking accuracy using Decision Tree"
   ]
  },
  {
   "cell_type": "code",
   "execution_count": 329,
   "id": "4c019006-1cda-4160-985b-d26f36e63568",
   "metadata": {},
   "outputs": [
    {
     "name": "stdout",
     "output_type": "stream",
     "text": [
      "Decision Tree Test Accuracy 77.46%\n"
     ]
    }
   ],
   "source": [
    "from sklearn.tree import DecisionTreeClassifier\n",
    "dtc = DecisionTreeClassifier()\n",
    "dtc.fit(x, y)\n",
    "print(\"Decision Tree Test Accuracy {:.2f}%\".format(dtc.score(x_test, y_pred)*100))"
   ]
  },
  {
   "cell_type": "markdown",
   "id": "fb254638-e178-4d82-b8c5-6adec259069e",
   "metadata": {},
   "source": [
    "Checking accuracy using RandomForest"
   ]
  },
  {
   "cell_type": "code",
   "execution_count": 330,
   "id": "bda8000d-1951-48fd-9da1-c28bf9172954",
   "metadata": {},
   "outputs": [
    {
     "name": "stdout",
     "output_type": "stream",
     "text": [
      "Random Forest Algorithm Accuracy Score : 77.46%\n"
     ]
    }
   ],
   "source": [
    "from sklearn.ensemble import RandomForestClassifier\n",
    "rf = RandomForestClassifier(n_estimators = 1000, random_state = 1)\n",
    "rf.fit(x, y)\n",
    "print(\"Random Forest Algorithm Accuracy Score : {:.2f}%\".format(rf.score(x_test,y_pred)*100))"
   ]
  }
 ],
 "metadata": {
  "kernelspec": {
   "display_name": "Python 3 (ipykernel)",
   "language": "python",
   "name": "python3"
  },
  "language_info": {
   "codemirror_mode": {
    "name": "ipython",
    "version": 3
   },
   "file_extension": ".py",
   "mimetype": "text/x-python",
   "name": "python",
   "nbconvert_exporter": "python",
   "pygments_lexer": "ipython3",
   "version": "3.9.12"
  }
 },
 "nbformat": 4,
 "nbformat_minor": 5
}
