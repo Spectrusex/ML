{
 "cells": [
  {
   "cell_type": "markdown",
   "metadata": {
    "id": "KjFGZBez-QH5"
   },
   "source": [
    "### **MEAN SQUARED ERROR (MSE)**"
   ]
  },
  {
   "cell_type": "code",
   "execution_count": 1,
   "metadata": {
    "colab": {
     "base_uri": "https://localhost:8080/"
    },
    "id": "RKeQE1ct-Ycg",
    "outputId": "e64d8f1b-aa25-4d4b-d6b6-ae56a302cdb6"
   },
   "outputs": [
    {
     "data": {
      "text/plain": [
       "0.685"
      ]
     },
     "execution_count": 1,
     "metadata": {},
     "output_type": "execute_result"
    }
   ],
   "source": [
    "from sklearn.metrics import mean_squared_error\n",
    "actual = [3, -0.5, 2, 7]\n",
    "predicted = [2.5, 0.2, 1, 8]\n",
    "mean_squared_error(actual, predicted)\n"
   ]
  },
  {
   "cell_type": "markdown",
   "metadata": {
    "id": "ESwScly7_MnK"
   },
   "source": [
    "### **VERIFICATION USING THE FORMULA**"
   ]
  },
  {
   "cell_type": "code",
   "execution_count": 2,
   "metadata": {
    "colab": {
     "base_uri": "https://localhost:8080/"
    },
    "id": "Deu06S2R-kQW",
    "outputId": "66ec1579-d184-421e-fcc7-6de95ae4e057"
   },
   "outputs": [
    {
     "data": {
      "text/plain": [
       "0.685"
      ]
     },
     "execution_count": 2,
     "metadata": {},
     "output_type": "execute_result"
    }
   ],
   "source": [
    "((3-2.5)**2 + (-0.5-0.2)**2 + (2-1)**2 + (7-8)**2) /4"
   ]
  },
  {
   "cell_type": "code",
   "execution_count": null,
   "metadata": {
    "id": "UxhsONCJEr1w"
   },
   "outputs": [],
   "source": []
  },
  {
   "cell_type": "markdown",
   "metadata": {
    "id": "gvBkRU1SEtB0"
   },
   "source": [
    "### **RMSE**"
   ]
  },
  {
   "cell_type": "code",
   "execution_count": 3,
   "metadata": {
    "colab": {
     "base_uri": "https://localhost:8080/"
    },
    "id": "khL54Ygx-pmR",
    "outputId": "b95ee8de-09bf-4753-e96f-8c1db7db6665"
   },
   "outputs": [
    {
     "data": {
      "text/plain": [
       "0.8276472678623424"
      ]
     },
     "execution_count": 3,
     "metadata": {},
     "output_type": "execute_result"
    }
   ],
   "source": [
    "actual = [3, -0.5, 2, 7]\n",
    "predicted = [2.5, 0.2, 1, 8]\n",
    "mean_squared_error(actual, predicted,squared=False)"
   ]
  },
  {
   "cell_type": "code",
   "execution_count": 4,
   "metadata": {
    "colab": {
     "base_uri": "https://localhost:8080/"
    },
    "id": "1T5bC_AAEim_",
    "outputId": "73a964e2-8a77-42ad-a03f-053a2911af05"
   },
   "outputs": [
    {
     "data": {
      "text/plain": [
       "0.8276472678623424"
      ]
     },
     "execution_count": 4,
     "metadata": {},
     "output_type": "execute_result"
    }
   ],
   "source": [
    "import math\n",
    "math.sqrt(((3-2.5)**2 + (-0.5-0.2)**2 + (2-1)**2 + (7-8)**2) /4)"
   ]
  },
  {
   "cell_type": "code",
   "execution_count": 5,
   "metadata": {
    "colab": {
     "base_uri": "https://localhost:8080/"
    },
    "id": "6kQaaq3fEU0Y",
    "outputId": "95ab4f5b-0394-4a83-845b-88bd93061fcd"
   },
   "outputs": [
    {
     "data": {
      "text/plain": [
       "0.8"
      ]
     },
     "execution_count": 5,
     "metadata": {},
     "output_type": "execute_result"
    }
   ],
   "source": [
    "from sklearn.metrics import mean_absolute_error\n",
    "actual = [3, -0.5, 2, 7]\n",
    "predicted = [2.5, 0.2, 1, 8]\n",
    "mean_absolute_error(actual, predicted)\n"
   ]
  },
  {
   "cell_type": "code",
   "execution_count": 6,
   "metadata": {
    "colab": {
     "base_uri": "https://localhost:8080/"
    },
    "id": "KtfcbvpUEdQm",
    "outputId": "f941552c-bf14-4862-9900-f07930e61dc8"
   },
   "outputs": [
    {
     "data": {
      "text/plain": [
       "0.8"
      ]
     },
     "execution_count": 6,
     "metadata": {},
     "output_type": "execute_result"
    }
   ],
   "source": [
    "(abs(3-2.5) + abs(-0.5-0.2) + abs(2-1) + abs(7-8)) /4"
   ]
  },
  {
   "cell_type": "code",
   "execution_count": null,
   "metadata": {
    "id": "jMw5fSi2G557"
   },
   "outputs": [],
   "source": []
  }
 ],
 "metadata": {
  "colab": {
   "collapsed_sections": [],
   "provenance": []
  },
  "kernelspec": {
   "display_name": "Python 3 (ipykernel)",
   "language": "python",
   "name": "python3"
  },
  "language_info": {
   "codemirror_mode": {
    "name": "ipython",
    "version": 3
   },
   "file_extension": ".py",
   "mimetype": "text/x-python",
   "name": "python",
   "nbconvert_exporter": "python",
   "pygments_lexer": "ipython3",
   "version": "3.9.12"
  }
 },
 "nbformat": 4,
 "nbformat_minor": 1
}
