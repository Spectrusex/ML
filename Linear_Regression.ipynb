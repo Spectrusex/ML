{
 "cells": [
  {
   "cell_type": "markdown",
   "metadata": {
    "id": "fad6Ibzo5LiL"
   },
   "source": [
    "### **Import Libraries** "
   ]
  },
  {
   "cell_type": "code",
   "execution_count": null,
   "metadata": {
    "id": "PJNchPxs5Efu"
   },
   "outputs": [],
   "source": [
    "import numpy as np\n",
    "from sklearn.linear_model import LinearRegression"
   ]
  },
  {
   "cell_type": "markdown",
   "metadata": {
    "id": "eCvIi9EQ5y-S"
   },
   "source": [
    "### **Let's generate some Random Data**"
   ]
  },
  {
   "cell_type": "code",
   "execution_count": null,
   "metadata": {
    "id": "8mYfbwBY4_fC"
   },
   "outputs": [],
   "source": [
    "input_feature_x = np.array([4, 12, 16, 20, 24, 36, 40]).reshape((-1, 1))\n",
    "output_y = np.array([4, 17, 10, 18, 22, 38, 33])"
   ]
  },
  {
   "cell_type": "markdown",
   "metadata": {
    "id": "cwrBEBdN6dgy"
   },
   "source": [
    "### **Create the linear regression model and fit on data**"
   ]
  },
  {
   "cell_type": "code",
   "execution_count": null,
   "metadata": {
    "id": "udfjwJ0P6QIY"
   },
   "outputs": [],
   "source": [
    "my_first_linear_model = LinearRegression()\n",
    "my_first_linear_model.fit(input_feature_x, output_y)"
   ]
  },
  {
   "cell_type": "markdown",
   "metadata": {
    "id": "Jfgo_8eH7sG6"
   },
   "source": [
    "### **Find the slope and intercept**"
   ]
  },
  {
   "cell_type": "code",
   "execution_count": 5,
   "metadata": {
    "colab": {
     "base_uri": "https://localhost:8080/"
    },
    "id": "Yq3z-rq59rhh",
    "outputId": "daf2cc99-89e7-44fc-ff3b-c55b92ad60aa",
    "scrolled": false
   },
   "outputs": [
    {
     "ename": "NameError",
     "evalue": "name 'my_first_linear_model' is not defined",
     "output_type": "error",
     "traceback": [
      "\u001b[1;31m---------------------------------------------------------------------------\u001b[0m",
      "\u001b[1;31mNameError\u001b[0m                                 Traceback (most recent call last)",
      "Cell \u001b[1;32mIn [5], line 1\u001b[0m\n\u001b[1;32m----> 1\u001b[0m my_first_linear_model\u001b[38;5;241m.\u001b[39mcoef_\n",
      "\u001b[1;31mNameError\u001b[0m: name 'my_first_linear_model' is not defined"
     ]
    }
   ],
   "source": [
    "my_first_linear_model.coef_"
   ]
  },
  {
   "cell_type": "code",
   "execution_count": null,
   "metadata": {
    "colab": {
     "base_uri": "https://localhost:8080/"
    },
    "id": "ofNUKVjA70Sy",
    "outputId": "ce724a52-db51-45db-fdff-1a401637b390"
   },
   "outputs": [
    {
     "data": {
      "text/plain": [
       "1.097222222222225"
      ]
     },
     "execution_count": 11,
     "metadata": {},
     "output_type": "execute_result"
    }
   ],
   "source": [
    "my_first_linear_model.intercept_\n"
   ]
  },
  {
   "cell_type": "code",
   "execution_count": 2,
   "metadata": {
    "id": "fS4kJ6MqG9fT"
   },
   "outputs": [],
   "source": [
    "#y = 0.883*x+1.097"
   ]
  },
  {
   "cell_type": "markdown",
   "metadata": {
    "id": "5aIpRXFS9z5v"
   },
   "source": [
    "### **Get Predictions**"
   ]
  },
  {
   "cell_type": "code",
   "execution_count": 4,
   "metadata": {
    "colab": {
     "base_uri": "https://localhost:8080/"
    },
    "id": "1gar_xPe9txW",
    "outputId": "fff3f4b4-35c1-4dcf-982c-ec3ff4f83084",
    "scrolled": true
   },
   "outputs": [
    {
     "ename": "NameError",
     "evalue": "name 'np' is not defined",
     "output_type": "error",
     "traceback": [
      "\u001b[1;31m---------------------------------------------------------------------------\u001b[0m",
      "\u001b[1;31mNameError\u001b[0m                                 Traceback (most recent call last)",
      "Cell \u001b[1;32mIn [4], line 1\u001b[0m\n\u001b[1;32m----> 1\u001b[0m prediction_array \u001b[38;5;241m=\u001b[39m np\u001b[38;5;241m.\u001b[39marray([\u001b[38;5;241m13\u001b[39m,\u001b[38;5;241m16\u001b[39m])\u001b[38;5;241m.\u001b[39mreshape(\u001b[38;5;241m-\u001b[39m\u001b[38;5;241m1\u001b[39m,\u001b[38;5;241m1\u001b[39m)\n\u001b[0;32m      2\u001b[0m my_first_linear_model\u001b[38;5;241m.\u001b[39mpredict(prediction_array)\n",
      "\u001b[1;31mNameError\u001b[0m: name 'np' is not defined"
     ]
    }
   ],
   "source": [
    "prediction_array = np.array([13,16]).reshape(-1,1)\n",
    "my_first_linear_model.predict(prediction_array)"
   ]
  },
  {
   "cell_type": "markdown",
   "metadata": {
    "id": "4WdXyqZI_Rt6"
   },
   "source": [
    "## **Congratulations, You successfully completed the Linear Regression !!**"
   ]
  }
 ],
 "metadata": {
  "colab": {
   "collapsed_sections": [],
   "provenance": []
  },
  "kernelspec": {
   "display_name": "Python 3 (ipykernel)",
   "language": "python",
   "name": "python3"
  },
  "language_info": {
   "codemirror_mode": {
    "name": "ipython",
    "version": 3
   },
   "file_extension": ".py",
   "mimetype": "text/x-python",
   "name": "python",
   "nbconvert_exporter": "python",
   "pygments_lexer": "ipython3",
   "version": "3.9.12"
  }
 },
 "nbformat": 4,
 "nbformat_minor": 1
}
